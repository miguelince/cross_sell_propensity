{
 "cells": [
  {
   "cell_type": "code",
   "execution_count": null,
   "id": "532ebbab",
   "metadata": {},
   "outputs": [],
   "source": [
    "def plot_num_features(df, features):\n",
    "    \n",
    "    \"\"\" This function was created to analyse the distribution of numerical features by\n",
    "    plotting a boxplot and a histogram for each feature in features.\n",
    "    \n",
    "    Arguments:\n",
    "    \n",
    "    - df: dataframe with the features\n",
    "    - features: string with feature name or list of feature names to plot\n",
    "    \n",
    "    \"\"\"\n",
    "    \n",
    "    for feat in features:\n",
    "\n",
    "        f, axs = plt.subplots(2,2,figsize=(15,5))\n",
    "        plt.subplot(1, 2, 1)\n",
    "        sns.boxplot(x=df[feat])\n",
    "        plt.title('Boxplot', fontsize = 15)\n",
    "\n",
    "\n",
    "        plt.subplot(1, 2, 2)\n",
    "        sns.distplot(pd.concat([X_train,y_train],axis=1), x=feat, multiple=\"layer\", hue='Buy')\n",
    "        plt.title('Histogram', fontsize = 15)\n",
    "\n",
    "        plt.xlabel(feat)\n",
    "        plt.show()"
   ]
  }
 ],
 "metadata": {
  "kernelspec": {
   "display_name": "myenv",
   "language": "python",
   "name": "myenv"
  },
  "language_info": {
   "codemirror_mode": {
    "name": "ipython",
    "version": 3
   },
   "file_extension": ".py",
   "mimetype": "text/x-python",
   "name": "python",
   "nbconvert_exporter": "python",
   "pygments_lexer": "ipython3",
   "version": "3.10.4"
  }
 },
 "nbformat": 4,
 "nbformat_minor": 5
}
