{
 "cells": [
  {
   "cell_type": "markdown",
   "id": "2dde48da",
   "metadata": {},
   "source": [
    "Data fields:\n",
    "\n",
    "Access_ID - Unique identification of the user access to the website\n",
    "\n",
    "Date - Website visit date\n",
    "\n",
    "AccountMng_Pages - Number of pages visited by the user about account management\n",
    "\n",
    "AccountMng_Duration - Total amount of time (seconds) spent by the user on account management related pages\n",
    "\n",
    "FAQ_Pages - Number of pages visited by the user about frequently asked questions, shipping information and company related pages\n",
    "\n",
    "FAQ_Duration - Total amount of time (seconds) spent by the user on FAQ pages\n",
    "\n",
    "Product_Pages - Number of pages visited by the user about products and services offered by the company\n",
    "\n",
    "Product_Duration - Total amount in time (seconds) spent by the user on products and services related pages\n",
    "\n",
    "GoogleAnalytics_BounceRate - Average bounce rate value of the pages visited by the user, provided by google analytics\n",
    "\n",
    "GoogleAnalytics_ExitRate - Average exit rate value of the pages visited by the user, provided by google analytics\n",
    "\n",
    "GoogleAnalytics_PageValue - Average page value of the pages visited by the user, provided by google analytics\n",
    "\n",
    "OS - Operating System of the user\n",
    "\n",
    "Browser - Browser used to access the webpage\n",
    "\n",
    "Country - The country of the user\n",
    "\n",
    "Type_of_Traffic - Traffic Source by which the user has accessed the website (e.g., email, banner, direct)\n",
    "\n",
    "Type_of_Visitor - User type as \"New access\", \"Returner\" or \"Other\"\n",
    "\n",
    "Buy - Class label indicating if the user finalized their actions in the website with a transaction"
   ]
  },
  {
   "cell_type": "code",
   "execution_count": 112,
   "id": "cfb37bee",
   "metadata": {},
   "outputs": [],
   "source": [
    "import pandas as pd\n",
    "import datetime\n",
    "import matplotlib.pyplot as plt\n",
    "import seaborn as sns\n",
    "from math import ceil\n",
    "from imblearn.under_sampling import RandomUnderSampler\n",
    "from sklearn.preprocessing import LabelEncoder\n",
    "from sklearn.model_selection import train_test_split\n",
    "from sklearn.ensemble import GradientBoostingClassifier\n",
    "from sklearn.ensemble import RandomForestClassifier\n",
    "from sklearn import metrics\n"
   ]
  },
  {
   "cell_type": "code",
   "execution_count": 2,
   "id": "f46f7af8",
   "metadata": {},
   "outputs": [],
   "source": [
    "df = pd.read_csv('../data/train.csv')"
   ]
  },
  {
   "cell_type": "code",
   "execution_count": 3,
   "id": "cb85f918",
   "metadata": {},
   "outputs": [
    {
     "name": "stdout",
     "output_type": "stream",
     "text": [
      "<class 'pandas.core.frame.DataFrame'>\n",
      "RangeIndex: 9999 entries, 0 to 9998\n",
      "Data columns (total 17 columns):\n",
      " #   Column                      Non-Null Count  Dtype  \n",
      "---  ------                      --------------  -----  \n",
      " 0   Access_ID                   9999 non-null   int64  \n",
      " 1   Date                        9999 non-null   object \n",
      " 2   AccountMng_Pages            9999 non-null   int64  \n",
      " 3   AccountMng_Duration         9999 non-null   float64\n",
      " 4   FAQ_Pages                   9999 non-null   int64  \n",
      " 5   FAQ_Duration                9999 non-null   float64\n",
      " 6   Product_Pages               9999 non-null   int64  \n",
      " 7   Product_Duration            9999 non-null   float64\n",
      " 8   GoogleAnalytics_BounceRate  9999 non-null   float64\n",
      " 9   GoogleAnalytics_ExitRate    9999 non-null   float64\n",
      " 10  GoogleAnalytics_PageValue   9999 non-null   float64\n",
      " 11  OS                          9999 non-null   object \n",
      " 12  Browser                     9999 non-null   int64  \n",
      " 13  Country                     9999 non-null   object \n",
      " 14  Type_of_Traffic             9999 non-null   int64  \n",
      " 15  Type_of_Visitor             9999 non-null   object \n",
      " 16  Buy                         9999 non-null   int64  \n",
      "dtypes: float64(6), int64(7), object(4)\n",
      "memory usage: 1.3+ MB\n"
     ]
    }
   ],
   "source": [
    "df.info()"
   ]
  },
  {
   "cell_type": "code",
   "execution_count": 4,
   "id": "12d0665f",
   "metadata": {},
   "outputs": [
    {
     "data": {
      "text/html": [
       "<div>\n",
       "<style scoped>\n",
       "    .dataframe tbody tr th:only-of-type {\n",
       "        vertical-align: middle;\n",
       "    }\n",
       "\n",
       "    .dataframe tbody tr th {\n",
       "        vertical-align: top;\n",
       "    }\n",
       "\n",
       "    .dataframe thead th {\n",
       "        text-align: right;\n",
       "    }\n",
       "</style>\n",
       "<table border=\"1\" class=\"dataframe\">\n",
       "  <thead>\n",
       "    <tr style=\"text-align: right;\">\n",
       "      <th></th>\n",
       "      <th>Access_ID</th>\n",
       "      <th>Date</th>\n",
       "      <th>AccountMng_Pages</th>\n",
       "      <th>AccountMng_Duration</th>\n",
       "      <th>FAQ_Pages</th>\n",
       "      <th>FAQ_Duration</th>\n",
       "      <th>Product_Pages</th>\n",
       "      <th>Product_Duration</th>\n",
       "      <th>GoogleAnalytics_BounceRate</th>\n",
       "      <th>GoogleAnalytics_ExitRate</th>\n",
       "      <th>GoogleAnalytics_PageValue</th>\n",
       "      <th>OS</th>\n",
       "      <th>Browser</th>\n",
       "      <th>Country</th>\n",
       "      <th>Type_of_Traffic</th>\n",
       "      <th>Type_of_Visitor</th>\n",
       "      <th>Buy</th>\n",
       "    </tr>\n",
       "  </thead>\n",
       "  <tbody>\n",
       "    <tr>\n",
       "      <th>0</th>\n",
       "      <td>102863333</td>\n",
       "      <td>21-Mar-20</td>\n",
       "      <td>0</td>\n",
       "      <td>0.0</td>\n",
       "      <td>0</td>\n",
       "      <td>0.0</td>\n",
       "      <td>3</td>\n",
       "      <td>64.0000</td>\n",
       "      <td>0.0000</td>\n",
       "      <td>0.0667</td>\n",
       "      <td>0.0000</td>\n",
       "      <td>MacOSX</td>\n",
       "      <td>2</td>\n",
       "      <td>Portugal</td>\n",
       "      <td>1</td>\n",
       "      <td>Returner</td>\n",
       "      <td>0</td>\n",
       "    </tr>\n",
       "    <tr>\n",
       "      <th>1</th>\n",
       "      <td>103117814</td>\n",
       "      <td>20-May-20</td>\n",
       "      <td>0</td>\n",
       "      <td>0.0</td>\n",
       "      <td>0</td>\n",
       "      <td>0.0</td>\n",
       "      <td>23</td>\n",
       "      <td>684.5000</td>\n",
       "      <td>0.0217</td>\n",
       "      <td>0.0449</td>\n",
       "      <td>0.0000</td>\n",
       "      <td>Windows</td>\n",
       "      <td>2</td>\n",
       "      <td>France</td>\n",
       "      <td>6</td>\n",
       "      <td>Returner</td>\n",
       "      <td>0</td>\n",
       "    </tr>\n",
       "    <tr>\n",
       "      <th>2</th>\n",
       "      <td>103201891</td>\n",
       "      <td>4-Dec-20</td>\n",
       "      <td>0</td>\n",
       "      <td>0.0</td>\n",
       "      <td>0</td>\n",
       "      <td>0.0</td>\n",
       "      <td>8</td>\n",
       "      <td>95.0000</td>\n",
       "      <td>0.0250</td>\n",
       "      <td>0.0583</td>\n",
       "      <td>0.0000</td>\n",
       "      <td>Windows</td>\n",
       "      <td>4</td>\n",
       "      <td>Italy</td>\n",
       "      <td>1</td>\n",
       "      <td>Returner</td>\n",
       "      <td>0</td>\n",
       "    </tr>\n",
       "    <tr>\n",
       "      <th>3</th>\n",
       "      <td>103226087</td>\n",
       "      <td>22-Dec-20</td>\n",
       "      <td>0</td>\n",
       "      <td>0.0</td>\n",
       "      <td>0</td>\n",
       "      <td>0.0</td>\n",
       "      <td>9</td>\n",
       "      <td>608.7500</td>\n",
       "      <td>0.0000</td>\n",
       "      <td>0.0250</td>\n",
       "      <td>42.4225</td>\n",
       "      <td>Windows</td>\n",
       "      <td>2</td>\n",
       "      <td>United Kingdom</td>\n",
       "      <td>2</td>\n",
       "      <td>Returner</td>\n",
       "      <td>1</td>\n",
       "    </tr>\n",
       "    <tr>\n",
       "      <th>4</th>\n",
       "      <td>103234445</td>\n",
       "      <td>24-Nov-20</td>\n",
       "      <td>0</td>\n",
       "      <td>0.0</td>\n",
       "      <td>2</td>\n",
       "      <td>386.0</td>\n",
       "      <td>36</td>\n",
       "      <td>1609.9397</td>\n",
       "      <td>0.0000</td>\n",
       "      <td>0.0093</td>\n",
       "      <td>12.5033</td>\n",
       "      <td>Windows</td>\n",
       "      <td>2</td>\n",
       "      <td>Spain</td>\n",
       "      <td>3</td>\n",
       "      <td>Returner</td>\n",
       "      <td>1</td>\n",
       "    </tr>\n",
       "  </tbody>\n",
       "</table>\n",
       "</div>"
      ],
      "text/plain": [
       "   Access_ID       Date  AccountMng_Pages  AccountMng_Duration  FAQ_Pages  \\\n",
       "0  102863333  21-Mar-20                 0                  0.0          0   \n",
       "1  103117814  20-May-20                 0                  0.0          0   \n",
       "2  103201891   4-Dec-20                 0                  0.0          0   \n",
       "3  103226087  22-Dec-20                 0                  0.0          0   \n",
       "4  103234445  24-Nov-20                 0                  0.0          2   \n",
       "\n",
       "   FAQ_Duration  Product_Pages  Product_Duration  GoogleAnalytics_BounceRate  \\\n",
       "0           0.0              3           64.0000                      0.0000   \n",
       "1           0.0             23          684.5000                      0.0217   \n",
       "2           0.0              8           95.0000                      0.0250   \n",
       "3           0.0              9          608.7500                      0.0000   \n",
       "4         386.0             36         1609.9397                      0.0000   \n",
       "\n",
       "   GoogleAnalytics_ExitRate  GoogleAnalytics_PageValue       OS  Browser  \\\n",
       "0                    0.0667                     0.0000   MacOSX        2   \n",
       "1                    0.0449                     0.0000  Windows        2   \n",
       "2                    0.0583                     0.0000  Windows        4   \n",
       "3                    0.0250                    42.4225  Windows        2   \n",
       "4                    0.0093                    12.5033  Windows        2   \n",
       "\n",
       "          Country  Type_of_Traffic Type_of_Visitor  Buy  \n",
       "0        Portugal                1        Returner    0  \n",
       "1          France                6        Returner    0  \n",
       "2           Italy                1        Returner    0  \n",
       "3  United Kingdom                2        Returner    1  \n",
       "4           Spain                3        Returner    1  "
      ]
     },
     "execution_count": 4,
     "metadata": {},
     "output_type": "execute_result"
    }
   ],
   "source": [
    "df.head()\n",
    "\n",
    "## existe forma de calcular o id do utilizador pelo Access_ID?\n",
    "## temos a descrição das categorias para o browser e type of traffic?"
   ]
  },
  {
   "cell_type": "code",
   "execution_count": 10,
   "id": "e2de8ac0",
   "metadata": {},
   "outputs": [
    {
     "data": {
      "text/plain": [
       "0"
      ]
     },
     "execution_count": 10,
     "metadata": {},
     "output_type": "execute_result"
    }
   ],
   "source": [
    "df.duplicated(subset=['Access_ID']).sum()"
   ]
  },
  {
   "cell_type": "code",
   "execution_count": 74,
   "id": "bd6e5c80",
   "metadata": {},
   "outputs": [
    {
     "data": {
      "text/plain": [
       "15.5"
      ]
     },
     "execution_count": 74,
     "metadata": {},
     "output_type": "execute_result"
    }
   ],
   "source": [
    "round(df.Buy.mean(),3)*100\n",
    "\n",
    "# we have an average conversion rate of 15.5%"
   ]
  },
  {
   "cell_type": "code",
   "execution_count": null,
   "id": "6be894cc",
   "metadata": {},
   "outputs": [],
   "source": [
    "# change types\n",
    "\n",
    "# to date\n",
    "df.Date = df.Date.apply(lambda x: datetime.datetime.strptime(x, \"%d-%b-%y\"))"
   ]
  },
  {
   "cell_type": "code",
   "execution_count": 66,
   "id": "1289224e",
   "metadata": {},
   "outputs": [],
   "source": [
    "# get details from the date\n",
    "df['Month_Access'] = df.Date.apply(lambda x: x.month)\n",
    "df['Day_Access'] = df.Date.apply(lambda x: x.day)\n",
    "df['WDay_Access'] = df.Date.apply(lambda x: x.weekday())"
   ]
  },
  {
   "cell_type": "code",
   "execution_count": 67,
   "id": "85a55a63",
   "metadata": {},
   "outputs": [
    {
     "data": {
      "text/plain": [
       "0    1654\n",
       "1    1553\n",
       "4    1508\n",
       "2    1448\n",
       "3    1438\n",
       "6    1289\n",
       "5    1109\n",
       "Name: WDay_Access, dtype: int64"
      ]
     },
     "execution_count": 67,
     "metadata": {},
     "output_type": "execute_result"
    }
   ],
   "source": [
    "df['WDay_Access'].value_counts() ## monday is 0"
   ]
  },
  {
   "cell_type": "code",
   "execution_count": 44,
   "id": "f1bd4467",
   "metadata": {},
   "outputs": [
    {
     "data": {
      "text/plain": [
       "['Windows',\n",
       " 'Android',\n",
       " 'MacOSX',\n",
       " 'iOS',\n",
       " 'Ubuntu',\n",
       " 'Chrome OS',\n",
       " 'Other',\n",
       " 'Fedora']"
      ]
     },
     "execution_count": 44,
     "metadata": {},
     "output_type": "execute_result"
    }
   ],
   "source": []
  },
  {
   "cell_type": "code",
   "execution_count": 75,
   "id": "e92af506",
   "metadata": {},
   "outputs": [
    {
     "data": {
      "image/png": "[encoded data removed]",
      "text/plain": [
       "<Figure size 2160x1080 with 6 Axes>"
      ]
     },
     "metadata": {
      "needs_background": "light"
     },
     "output_type": "display_data"
    }
   ],
   "source": [
    "\n",
    "## distribution of categorical variables\n",
    "\n",
    "cat_vars = ['OS','Browser','Country','Type_of_Traffic','Type_of_Visitor','WDay_Access']\n",
    "\n",
    "# Prepare figure. Create individual axes where each bar plot will be placed\n",
    "fig, axes = plt.subplots(2, ceil(len(cat_vars) / 2), figsize=(30, 15))\n",
    "\n",
    "# Plot data\n",
    "# Iterate across axes objects and associate each histogram (hint: use the ax.hist() instead of plt.hist()):\n",
    "for ax, feat in zip(axes.flatten(), cat_vars): # Notice the zip() function and flatten() method\n",
    "    ax.bar(height=list(df[feat].value_counts()), x=list(df[feat].value_counts().index))\n",
    "    ax.set_title(feat, y=-0.15)\n",
    "plt.show()\n",
    "    \n"
   ]
  },
  {
   "cell_type": "code",
   "execution_count": 77,
   "id": "9dd946a0",
   "metadata": {},
   "outputs": [
    {
     "data": {
      "image/png": "[encoded data removed]",
      "text/plain": [
       "<Figure size 2160x1080 with 6 Axes>"
      ]
     },
     "metadata": {
      "needs_background": "light"
     },
     "output_type": "display_data"
    }
   ],
   "source": [
    "# Prepare figure. Create individual axes where each bar plot will be placed\n",
    "fig, axes = plt.subplots(2, ceil(len(cat_vars) / 2), figsize=(30, 15))\n",
    "\n",
    "# Plot data\n",
    "# Iterate across axes objects and associate each histogram (hint: use the ax.hist() instead of plt.hist()):\n",
    "for ax, feat in zip(axes.flatten(), cat_vars): # Notice the zip() function and flatten() method\n",
    "    ax.bar(height=list(df.groupby(feat).Buy.agg('mean')*100), x=list(df[feat].value_counts().index))\n",
    "    ax.set_title(feat, y=-0.15)\n",
    "plt.show()\n",
    "    "
   ]
  },
  {
   "cell_type": "code",
   "execution_count": 63,
   "id": "312fef01",
   "metadata": {},
   "outputs": [
    {
     "name": "stdout",
     "output_type": "stream",
     "text": [
      "<class 'pandas.core.frame.DataFrame'>\n",
      "RangeIndex: 9999 entries, 0 to 9998\n",
      "Data columns (total 20 columns):\n",
      " #   Column                      Non-Null Count  Dtype         \n",
      "---  ------                      --------------  -----         \n",
      " 0   Access_ID                   9999 non-null   int64         \n",
      " 1   Date                        9999 non-null   datetime64[ns]\n",
      " 2   AccountMng_Pages            9999 non-null   int64         \n",
      " 3   AccountMng_Duration         9999 non-null   float64       \n",
      " 4   FAQ_Pages                   9999 non-null   int64         \n",
      " 5   FAQ_Duration                9999 non-null   float64       \n",
      " 6   Product_Pages               9999 non-null   int64         \n",
      " 7   Product_Duration            9999 non-null   float64       \n",
      " 8   GoogleAnalytics_BounceRate  9999 non-null   float64       \n",
      " 9   GoogleAnalytics_ExitRate    9999 non-null   float64       \n",
      " 10  GoogleAnalytics_PageValue   9999 non-null   float64       \n",
      " 11  OS                          9999 non-null   object        \n",
      " 12  Browser                     9999 non-null   int64         \n",
      " 13  Country                     9999 non-null   object        \n",
      " 14  Type_of_Traffic             9999 non-null   int64         \n",
      " 15  Type_of_Visitor             9999 non-null   object        \n",
      " 16  Buy                         9999 non-null   int64         \n",
      " 17  Month_Access                9999 non-null   int64         \n",
      " 18  Day_Access                  9999 non-null   int64         \n",
      " 19  WDay_Access                 9999 non-null   object        \n",
      "dtypes: datetime64[ns](1), float64(6), int64(9), object(4)\n",
      "memory usage: 1.5+ MB\n"
     ]
    }
   ],
   "source": [
    "df.info()"
   ]
  },
  {
   "cell_type": "code",
   "execution_count": 58,
   "id": "91f7e12f",
   "metadata": {},
   "outputs": [
    {
     "data": {
      "text/html": [
       "<div>\n",
       "<style scoped>\n",
       "    .dataframe tbody tr th:only-of-type {\n",
       "        vertical-align: middle;\n",
       "    }\n",
       "\n",
       "    .dataframe tbody tr th {\n",
       "        vertical-align: top;\n",
       "    }\n",
       "\n",
       "    .dataframe thead th {\n",
       "        text-align: right;\n",
       "    }\n",
       "</style>\n",
       "<table border=\"1\" class=\"dataframe\">\n",
       "  <thead>\n",
       "    <tr style=\"text-align: right;\">\n",
       "      <th></th>\n",
       "      <th>Access_ID</th>\n",
       "      <th>Date</th>\n",
       "      <th>AccountMng_Pages</th>\n",
       "      <th>AccountMng_Duration</th>\n",
       "      <th>FAQ_Pages</th>\n",
       "      <th>FAQ_Duration</th>\n",
       "      <th>Product_Pages</th>\n",
       "      <th>Product_Duration</th>\n",
       "      <th>GoogleAnalytics_BounceRate</th>\n",
       "      <th>GoogleAnalytics_ExitRate</th>\n",
       "      <th>GoogleAnalytics_PageValue</th>\n",
       "      <th>OS</th>\n",
       "      <th>Browser</th>\n",
       "      <th>Country</th>\n",
       "      <th>Type_of_Traffic</th>\n",
       "      <th>Type_of_Visitor</th>\n",
       "      <th>Buy</th>\n",
       "      <th>Month_Access</th>\n",
       "    </tr>\n",
       "  </thead>\n",
       "  <tbody>\n",
       "    <tr>\n",
       "      <th>0</th>\n",
       "      <td>102863333</td>\n",
       "      <td>2020-03-21</td>\n",
       "      <td>0</td>\n",
       "      <td>0.0</td>\n",
       "      <td>0</td>\n",
       "      <td>0.0</td>\n",
       "      <td>3</td>\n",
       "      <td>64.0000</td>\n",
       "      <td>0.0000</td>\n",
       "      <td>0.0667</td>\n",
       "      <td>0.0000</td>\n",
       "      <td>MacOSX</td>\n",
       "      <td>2</td>\n",
       "      <td>Portugal</td>\n",
       "      <td>1</td>\n",
       "      <td>Returner</td>\n",
       "      <td>0</td>\n",
       "      <td>3</td>\n",
       "    </tr>\n",
       "    <tr>\n",
       "      <th>1</th>\n",
       "      <td>103117814</td>\n",
       "      <td>2020-05-20</td>\n",
       "      <td>0</td>\n",
       "      <td>0.0</td>\n",
       "      <td>0</td>\n",
       "      <td>0.0</td>\n",
       "      <td>23</td>\n",
       "      <td>684.5000</td>\n",
       "      <td>0.0217</td>\n",
       "      <td>0.0449</td>\n",
       "      <td>0.0000</td>\n",
       "      <td>Windows</td>\n",
       "      <td>2</td>\n",
       "      <td>France</td>\n",
       "      <td>6</td>\n",
       "      <td>Returner</td>\n",
       "      <td>0</td>\n",
       "      <td>5</td>\n",
       "    </tr>\n",
       "    <tr>\n",
       "      <th>2</th>\n",
       "      <td>103201891</td>\n",
       "      <td>2020-12-04</td>\n",
       "      <td>0</td>\n",
       "      <td>0.0</td>\n",
       "      <td>0</td>\n",
       "      <td>0.0</td>\n",
       "      <td>8</td>\n",
       "      <td>95.0000</td>\n",
       "      <td>0.0250</td>\n",
       "      <td>0.0583</td>\n",
       "      <td>0.0000</td>\n",
       "      <td>Windows</td>\n",
       "      <td>4</td>\n",
       "      <td>Italy</td>\n",
       "      <td>1</td>\n",
       "      <td>Returner</td>\n",
       "      <td>0</td>\n",
       "      <td>12</td>\n",
       "    </tr>\n",
       "    <tr>\n",
       "      <th>3</th>\n",
       "      <td>103226087</td>\n",
       "      <td>2020-12-22</td>\n",
       "      <td>0</td>\n",
       "      <td>0.0</td>\n",
       "      <td>0</td>\n",
       "      <td>0.0</td>\n",
       "      <td>9</td>\n",
       "      <td>608.7500</td>\n",
       "      <td>0.0000</td>\n",
       "      <td>0.0250</td>\n",
       "      <td>42.4225</td>\n",
       "      <td>Windows</td>\n",
       "      <td>2</td>\n",
       "      <td>United Kingdom</td>\n",
       "      <td>2</td>\n",
       "      <td>Returner</td>\n",
       "      <td>1</td>\n",
       "      <td>12</td>\n",
       "    </tr>\n",
       "    <tr>\n",
       "      <th>4</th>\n",
       "      <td>103234445</td>\n",
       "      <td>2020-11-24</td>\n",
       "      <td>0</td>\n",
       "      <td>0.0</td>\n",
       "      <td>2</td>\n",
       "      <td>386.0</td>\n",
       "      <td>36</td>\n",
       "      <td>1609.9397</td>\n",
       "      <td>0.0000</td>\n",
       "      <td>0.0093</td>\n",
       "      <td>12.5033</td>\n",
       "      <td>Windows</td>\n",
       "      <td>2</td>\n",
       "      <td>Spain</td>\n",
       "      <td>3</td>\n",
       "      <td>Returner</td>\n",
       "      <td>1</td>\n",
       "      <td>11</td>\n",
       "    </tr>\n",
       "  </tbody>\n",
       "</table>\n",
       "</div>"
      ],
      "text/plain": [
       "   Access_ID       Date  AccountMng_Pages  AccountMng_Duration  FAQ_Pages  \\\n",
       "0  102863333 2020-03-21                 0                  0.0          0   \n",
       "1  103117814 2020-05-20                 0                  0.0          0   \n",
       "2  103201891 2020-12-04                 0                  0.0          0   \n",
       "3  103226087 2020-12-22                 0                  0.0          0   \n",
       "4  103234445 2020-11-24                 0                  0.0          2   \n",
       "\n",
       "   FAQ_Duration  Product_Pages  Product_Duration  GoogleAnalytics_BounceRate  \\\n",
       "0           0.0              3           64.0000                      0.0000   \n",
       "1           0.0             23          684.5000                      0.0217   \n",
       "2           0.0              8           95.0000                      0.0250   \n",
       "3           0.0              9          608.7500                      0.0000   \n",
       "4         386.0             36         1609.9397                      0.0000   \n",
       "\n",
       "   GoogleAnalytics_ExitRate  GoogleAnalytics_PageValue       OS  Browser  \\\n",
       "0                    0.0667                     0.0000   MacOSX        2   \n",
       "1                    0.0449                     0.0000  Windows        2   \n",
       "2                    0.0583                     0.0000  Windows        4   \n",
       "3                    0.0250                    42.4225  Windows        2   \n",
       "4                    0.0093                    12.5033  Windows        2   \n",
       "\n",
       "          Country  Type_of_Traffic Type_of_Visitor  Buy  Month_Access  \n",
       "0        Portugal                1        Returner    0             3  \n",
       "1          France                6        Returner    0             5  \n",
       "2           Italy                1        Returner    0            12  \n",
       "3  United Kingdom                2        Returner    1            12  \n",
       "4           Spain                3        Returner    1            11  "
      ]
     },
     "execution_count": 58,
     "metadata": {},
     "output_type": "execute_result"
    }
   ],
   "source": [
    "df.head()"
   ]
  },
  {
   "cell_type": "code",
   "execution_count": 62,
   "id": "1f74aea9",
   "metadata": {},
   "outputs": [
    {
     "data": {
      "text/html": [
       "<div>\n",
       "<style scoped>\n",
       "    .dataframe tbody tr th:only-of-type {\n",
       "        vertical-align: middle;\n",
       "    }\n",
       "\n",
       "    .dataframe tbody tr th {\n",
       "        vertical-align: top;\n",
       "    }\n",
       "\n",
       "    .dataframe thead th {\n",
       "        text-align: right;\n",
       "    }\n",
       "</style>\n",
       "<table border=\"1\" class=\"dataframe\">\n",
       "  <thead>\n",
       "    <tr style=\"text-align: right;\">\n",
       "      <th></th>\n",
       "      <th>Access_ID</th>\n",
       "      <th>AccountMng_Pages</th>\n",
       "      <th>AccountMng_Duration</th>\n",
       "      <th>FAQ_Pages</th>\n",
       "      <th>FAQ_Duration</th>\n",
       "      <th>Product_Pages</th>\n",
       "      <th>Product_Duration</th>\n",
       "      <th>GoogleAnalytics_BounceRate</th>\n",
       "      <th>GoogleAnalytics_ExitRate</th>\n",
       "      <th>GoogleAnalytics_PageValue</th>\n",
       "      <th>Browser</th>\n",
       "      <th>Type_of_Traffic</th>\n",
       "      <th>Buy</th>\n",
       "      <th>Month_Access</th>\n",
       "      <th>Day_Access</th>\n",
       "    </tr>\n",
       "  </thead>\n",
       "  <tbody>\n",
       "    <tr>\n",
       "      <th>count</th>\n",
       "      <td>9.999000e+03</td>\n",
       "      <td>9999.000000</td>\n",
       "      <td>9999.000000</td>\n",
       "      <td>9999.000000</td>\n",
       "      <td>9999.000000</td>\n",
       "      <td>9999.000000</td>\n",
       "      <td>9999.000000</td>\n",
       "      <td>9999.000000</td>\n",
       "      <td>9999.000000</td>\n",
       "      <td>9999.000000</td>\n",
       "      <td>9999.000000</td>\n",
       "      <td>9999.000000</td>\n",
       "      <td>9999.000000</td>\n",
       "      <td>9999.000000</td>\n",
       "      <td>9999.000000</td>\n",
       "    </tr>\n",
       "    <tr>\n",
       "      <th>mean</th>\n",
       "      <td>4.519728e+08</td>\n",
       "      <td>2.324232</td>\n",
       "      <td>81.205854</td>\n",
       "      <td>0.508051</td>\n",
       "      <td>34.559101</td>\n",
       "      <td>31.685869</td>\n",
       "      <td>1199.769430</td>\n",
       "      <td>0.022305</td>\n",
       "      <td>0.043181</td>\n",
       "      <td>5.963120</td>\n",
       "      <td>2.352535</td>\n",
       "      <td>3.957496</td>\n",
       "      <td>0.155216</td>\n",
       "      <td>7.645865</td>\n",
       "      <td>15.790879</td>\n",
       "    </tr>\n",
       "    <tr>\n",
       "      <th>std</th>\n",
       "      <td>2.024990e+08</td>\n",
       "      <td>3.340676</td>\n",
       "      <td>179.715545</td>\n",
       "      <td>1.279390</td>\n",
       "      <td>139.796989</td>\n",
       "      <td>44.550277</td>\n",
       "      <td>1958.276304</td>\n",
       "      <td>0.048776</td>\n",
       "      <td>0.048845</td>\n",
       "      <td>18.753626</td>\n",
       "      <td>1.715698</td>\n",
       "      <td>3.675159</td>\n",
       "      <td>0.362128</td>\n",
       "      <td>3.398354</td>\n",
       "      <td>8.783838</td>\n",
       "    </tr>\n",
       "    <tr>\n",
       "      <th>min</th>\n",
       "      <td>1.028633e+08</td>\n",
       "      <td>0.000000</td>\n",
       "      <td>0.000000</td>\n",
       "      <td>0.000000</td>\n",
       "      <td>0.000000</td>\n",
       "      <td>0.000000</td>\n",
       "      <td>0.000000</td>\n",
       "      <td>0.000000</td>\n",
       "      <td>0.000000</td>\n",
       "      <td>0.000000</td>\n",
       "      <td>1.000000</td>\n",
       "      <td>1.000000</td>\n",
       "      <td>0.000000</td>\n",
       "      <td>2.000000</td>\n",
       "      <td>1.000000</td>\n",
       "    </tr>\n",
       "    <tr>\n",
       "      <th>25%</th>\n",
       "      <td>2.731950e+08</td>\n",
       "      <td>0.000000</td>\n",
       "      <td>0.000000</td>\n",
       "      <td>0.000000</td>\n",
       "      <td>0.000000</td>\n",
       "      <td>7.000000</td>\n",
       "      <td>183.562500</td>\n",
       "      <td>0.000000</td>\n",
       "      <td>0.014300</td>\n",
       "      <td>0.000000</td>\n",
       "      <td>2.000000</td>\n",
       "      <td>2.000000</td>\n",
       "      <td>0.000000</td>\n",
       "      <td>5.000000</td>\n",
       "      <td>8.000000</td>\n",
       "    </tr>\n",
       "    <tr>\n",
       "      <th>50%</th>\n",
       "      <td>4.536169e+08</td>\n",
       "      <td>1.000000</td>\n",
       "      <td>7.500000</td>\n",
       "      <td>0.000000</td>\n",
       "      <td>0.000000</td>\n",
       "      <td>18.000000</td>\n",
       "      <td>599.000000</td>\n",
       "      <td>0.003200</td>\n",
       "      <td>0.025100</td>\n",
       "      <td>0.000000</td>\n",
       "      <td>2.000000</td>\n",
       "      <td>2.000000</td>\n",
       "      <td>0.000000</td>\n",
       "      <td>7.000000</td>\n",
       "      <td>16.000000</td>\n",
       "    </tr>\n",
       "    <tr>\n",
       "      <th>75%</th>\n",
       "      <td>6.259756e+08</td>\n",
       "      <td>4.000000</td>\n",
       "      <td>92.208350</td>\n",
       "      <td>0.000000</td>\n",
       "      <td>0.000000</td>\n",
       "      <td>38.000000</td>\n",
       "      <td>1470.270800</td>\n",
       "      <td>0.016800</td>\n",
       "      <td>0.050000</td>\n",
       "      <td>0.000000</td>\n",
       "      <td>2.000000</td>\n",
       "      <td>4.000000</td>\n",
       "      <td>0.000000</td>\n",
       "      <td>11.000000</td>\n",
       "      <td>23.000000</td>\n",
       "    </tr>\n",
       "    <tr>\n",
       "      <th>max</th>\n",
       "      <td>7.984440e+08</td>\n",
       "      <td>27.000000</td>\n",
       "      <td>3398.750000</td>\n",
       "      <td>24.000000</td>\n",
       "      <td>2549.375000</td>\n",
       "      <td>705.000000</td>\n",
       "      <td>63973.522200</td>\n",
       "      <td>0.200000</td>\n",
       "      <td>0.200000</td>\n",
       "      <td>361.763700</td>\n",
       "      <td>13.000000</td>\n",
       "      <td>15.000000</td>\n",
       "      <td>1.000000</td>\n",
       "      <td>12.000000</td>\n",
       "      <td>31.000000</td>\n",
       "    </tr>\n",
       "  </tbody>\n",
       "</table>\n",
       "</div>"
      ],
      "text/plain": [
       "          Access_ID  AccountMng_Pages  AccountMng_Duration    FAQ_Pages  \\\n",
       "count  9.999000e+03       9999.000000          9999.000000  9999.000000   \n",
       "mean   4.519728e+08          2.324232            81.205854     0.508051   \n",
       "std    2.024990e+08          3.340676           179.715545     1.279390   \n",
       "min    1.028633e+08          0.000000             0.000000     0.000000   \n",
       "25%    2.731950e+08          0.000000             0.000000     0.000000   \n",
       "50%    4.536169e+08          1.000000             7.500000     0.000000   \n",
       "75%    6.259756e+08          4.000000            92.208350     0.000000   \n",
       "max    7.984440e+08         27.000000          3398.750000    24.000000   \n",
       "\n",
       "       FAQ_Duration  Product_Pages  Product_Duration  \\\n",
       "count   9999.000000    9999.000000       9999.000000   \n",
       "mean      34.559101      31.685869       1199.769430   \n",
       "std      139.796989      44.550277       1958.276304   \n",
       "min        0.000000       0.000000          0.000000   \n",
       "25%        0.000000       7.000000        183.562500   \n",
       "50%        0.000000      18.000000        599.000000   \n",
       "75%        0.000000      38.000000       1470.270800   \n",
       "max     2549.375000     705.000000      63973.522200   \n",
       "\n",
       "       GoogleAnalytics_BounceRate  GoogleAnalytics_ExitRate  \\\n",
       "count                 9999.000000               9999.000000   \n",
       "mean                     0.022305                  0.043181   \n",
       "std                      0.048776                  0.048845   \n",
       "min                      0.000000                  0.000000   \n",
       "25%                      0.000000                  0.014300   \n",
       "50%                      0.003200                  0.025100   \n",
       "75%                      0.016800                  0.050000   \n",
       "max                      0.200000                  0.200000   \n",
       "\n",
       "       GoogleAnalytics_PageValue      Browser  Type_of_Traffic          Buy  \\\n",
       "count                9999.000000  9999.000000      9999.000000  9999.000000   \n",
       "mean                    5.963120     2.352535         3.957496     0.155216   \n",
       "std                    18.753626     1.715698         3.675159     0.362128   \n",
       "min                     0.000000     1.000000         1.000000     0.000000   \n",
       "25%                     0.000000     2.000000         2.000000     0.000000   \n",
       "50%                     0.000000     2.000000         2.000000     0.000000   \n",
       "75%                     0.000000     2.000000         4.000000     0.000000   \n",
       "max                   361.763700    13.000000        15.000000     1.000000   \n",
       "\n",
       "       Month_Access   Day_Access  \n",
       "count   9999.000000  9999.000000  \n",
       "mean       7.645865    15.790879  \n",
       "std        3.398354     8.783838  \n",
       "min        2.000000     1.000000  \n",
       "25%        5.000000     8.000000  \n",
       "50%        7.000000    16.000000  \n",
       "75%       11.000000    23.000000  \n",
       "max       12.000000    31.000000  "
      ]
     },
     "execution_count": 62,
     "metadata": {},
     "output_type": "execute_result"
    }
   ],
   "source": [
    "df.describe()"
   ]
  },
  {
   "cell_type": "code",
   "execution_count": 87,
   "id": "31831ec6",
   "metadata": {},
   "outputs": [],
   "source": [
    "## encoding\n",
    "\n",
    "dummy_os = pd.get_dummies(df['OS'], prefix='OS')\n",
    "dummy_browser = pd.get_dummies(df['Browser'], prefix='Browser')\n",
    "dummy_country = pd.get_dummies(df['Country'], prefix='Country')\n",
    "dummy_traffic = pd.get_dummies(df['Type_of_Traffic'], prefix='Traffic')\n",
    "dummy_visitor = pd.get_dummies(df['Type_of_Visitor'], prefix='Visitor')\n",
    "dummy_wday = pd.get_dummies(df['WDay_Access'], prefix='Wday')\n",
    "\n",
    "df = pd.concat([df, dummy_os, dummy_browser, dummy_country, dummy_traffic, dummy_visitor, dummy_wday], axis=1)"
   ]
  },
  {
   "cell_type": "code",
   "execution_count": 90,
   "id": "4ba510d2",
   "metadata": {},
   "outputs": [],
   "source": [
    "df.set_index('Access_ID', inplace=True)"
   ]
  },
  {
   "cell_type": "code",
   "execution_count": 95,
   "id": "a32448f4",
   "metadata": {},
   "outputs": [],
   "source": [
    "df.drop(['Date','OS','Browser','Country','Type_of_Traffic','Type_of_Visitor','WDay_Access'], axis=1, inplace=True)"
   ]
  },
  {
   "cell_type": "code",
   "execution_count": 96,
   "id": "84638175",
   "metadata": {},
   "outputs": [
    {
     "data": {
      "text/html": [
       "<div>\n",
       "<style scoped>\n",
       "    .dataframe tbody tr th:only-of-type {\n",
       "        vertical-align: middle;\n",
       "    }\n",
       "\n",
       "    .dataframe tbody tr th {\n",
       "        vertical-align: top;\n",
       "    }\n",
       "\n",
       "    .dataframe thead th {\n",
       "        text-align: right;\n",
       "    }\n",
       "</style>\n",
       "<table border=\"1\" class=\"dataframe\">\n",
       "  <thead>\n",
       "    <tr style=\"text-align: right;\">\n",
       "      <th></th>\n",
       "      <th>AccountMng_Pages</th>\n",
       "      <th>AccountMng_Duration</th>\n",
       "      <th>FAQ_Pages</th>\n",
       "      <th>FAQ_Duration</th>\n",
       "      <th>Product_Pages</th>\n",
       "      <th>Product_Duration</th>\n",
       "      <th>GoogleAnalytics_BounceRate</th>\n",
       "      <th>GoogleAnalytics_ExitRate</th>\n",
       "      <th>GoogleAnalytics_PageValue</th>\n",
       "      <th>Buy</th>\n",
       "      <th>...</th>\n",
       "      <th>Visitor_New_Access</th>\n",
       "      <th>Visitor_Other</th>\n",
       "      <th>Visitor_Returner</th>\n",
       "      <th>Wday_0</th>\n",
       "      <th>Wday_1</th>\n",
       "      <th>Wday_2</th>\n",
       "      <th>Wday_3</th>\n",
       "      <th>Wday_4</th>\n",
       "      <th>Wday_5</th>\n",
       "      <th>Wday_6</th>\n",
       "    </tr>\n",
       "    <tr>\n",
       "      <th>Access_ID</th>\n",
       "      <th></th>\n",
       "      <th></th>\n",
       "      <th></th>\n",
       "      <th></th>\n",
       "      <th></th>\n",
       "      <th></th>\n",
       "      <th></th>\n",
       "      <th></th>\n",
       "      <th></th>\n",
       "      <th></th>\n",
       "      <th></th>\n",
       "      <th></th>\n",
       "      <th></th>\n",
       "      <th></th>\n",
       "      <th></th>\n",
       "      <th></th>\n",
       "      <th></th>\n",
       "      <th></th>\n",
       "      <th></th>\n",
       "      <th></th>\n",
       "      <th></th>\n",
       "    </tr>\n",
       "  </thead>\n",
       "  <tbody>\n",
       "    <tr>\n",
       "      <th>102863333</th>\n",
       "      <td>0</td>\n",
       "      <td>0.0</td>\n",
       "      <td>0</td>\n",
       "      <td>0.0</td>\n",
       "      <td>3</td>\n",
       "      <td>64.0000</td>\n",
       "      <td>0.0000</td>\n",
       "      <td>0.0667</td>\n",
       "      <td>0.0000</td>\n",
       "      <td>0</td>\n",
       "      <td>...</td>\n",
       "      <td>0</td>\n",
       "      <td>0</td>\n",
       "      <td>1</td>\n",
       "      <td>0</td>\n",
       "      <td>0</td>\n",
       "      <td>0</td>\n",
       "      <td>0</td>\n",
       "      <td>0</td>\n",
       "      <td>1</td>\n",
       "      <td>0</td>\n",
       "    </tr>\n",
       "    <tr>\n",
       "      <th>103117814</th>\n",
       "      <td>0</td>\n",
       "      <td>0.0</td>\n",
       "      <td>0</td>\n",
       "      <td>0.0</td>\n",
       "      <td>23</td>\n",
       "      <td>684.5000</td>\n",
       "      <td>0.0217</td>\n",
       "      <td>0.0449</td>\n",
       "      <td>0.0000</td>\n",
       "      <td>0</td>\n",
       "      <td>...</td>\n",
       "      <td>0</td>\n",
       "      <td>0</td>\n",
       "      <td>1</td>\n",
       "      <td>0</td>\n",
       "      <td>0</td>\n",
       "      <td>1</td>\n",
       "      <td>0</td>\n",
       "      <td>0</td>\n",
       "      <td>0</td>\n",
       "      <td>0</td>\n",
       "    </tr>\n",
       "    <tr>\n",
       "      <th>103201891</th>\n",
       "      <td>0</td>\n",
       "      <td>0.0</td>\n",
       "      <td>0</td>\n",
       "      <td>0.0</td>\n",
       "      <td>8</td>\n",
       "      <td>95.0000</td>\n",
       "      <td>0.0250</td>\n",
       "      <td>0.0583</td>\n",
       "      <td>0.0000</td>\n",
       "      <td>0</td>\n",
       "      <td>...</td>\n",
       "      <td>0</td>\n",
       "      <td>0</td>\n",
       "      <td>1</td>\n",
       "      <td>0</td>\n",
       "      <td>0</td>\n",
       "      <td>0</td>\n",
       "      <td>0</td>\n",
       "      <td>1</td>\n",
       "      <td>0</td>\n",
       "      <td>0</td>\n",
       "    </tr>\n",
       "    <tr>\n",
       "      <th>103226087</th>\n",
       "      <td>0</td>\n",
       "      <td>0.0</td>\n",
       "      <td>0</td>\n",
       "      <td>0.0</td>\n",
       "      <td>9</td>\n",
       "      <td>608.7500</td>\n",
       "      <td>0.0000</td>\n",
       "      <td>0.0250</td>\n",
       "      <td>42.4225</td>\n",
       "      <td>1</td>\n",
       "      <td>...</td>\n",
       "      <td>0</td>\n",
       "      <td>0</td>\n",
       "      <td>1</td>\n",
       "      <td>0</td>\n",
       "      <td>1</td>\n",
       "      <td>0</td>\n",
       "      <td>0</td>\n",
       "      <td>0</td>\n",
       "      <td>0</td>\n",
       "      <td>0</td>\n",
       "    </tr>\n",
       "    <tr>\n",
       "      <th>103234445</th>\n",
       "      <td>0</td>\n",
       "      <td>0.0</td>\n",
       "      <td>2</td>\n",
       "      <td>386.0</td>\n",
       "      <td>36</td>\n",
       "      <td>1609.9397</td>\n",
       "      <td>0.0000</td>\n",
       "      <td>0.0093</td>\n",
       "      <td>12.5033</td>\n",
       "      <td>1</td>\n",
       "      <td>...</td>\n",
       "      <td>0</td>\n",
       "      <td>0</td>\n",
       "      <td>1</td>\n",
       "      <td>0</td>\n",
       "      <td>1</td>\n",
       "      <td>0</td>\n",
       "      <td>0</td>\n",
       "      <td>0</td>\n",
       "      <td>0</td>\n",
       "      <td>0</td>\n",
       "    </tr>\n",
       "  </tbody>\n",
       "</table>\n",
       "<p>5 rows × 66 columns</p>\n",
       "</div>"
      ],
      "text/plain": [
       "           AccountMng_Pages  AccountMng_Duration  FAQ_Pages  FAQ_Duration  \\\n",
       "Access_ID                                                                   \n",
       "102863333                 0                  0.0          0           0.0   \n",
       "103117814                 0                  0.0          0           0.0   \n",
       "103201891                 0                  0.0          0           0.0   \n",
       "103226087                 0                  0.0          0           0.0   \n",
       "103234445                 0                  0.0          2         386.0   \n",
       "\n",
       "           Product_Pages  Product_Duration  GoogleAnalytics_BounceRate  \\\n",
       "Access_ID                                                                \n",
       "102863333              3           64.0000                      0.0000   \n",
       "103117814             23          684.5000                      0.0217   \n",
       "103201891              8           95.0000                      0.0250   \n",
       "103226087              9          608.7500                      0.0000   \n",
       "103234445             36         1609.9397                      0.0000   \n",
       "\n",
       "           GoogleAnalytics_ExitRate  GoogleAnalytics_PageValue  Buy  ...  \\\n",
       "Access_ID                                                            ...   \n",
       "102863333                    0.0667                     0.0000    0  ...   \n",
       "103117814                    0.0449                     0.0000    0  ...   \n",
       "103201891                    0.0583                     0.0000    0  ...   \n",
       "103226087                    0.0250                    42.4225    1  ...   \n",
       "103234445                    0.0093                    12.5033    1  ...   \n",
       "\n",
       "           Visitor_New_Access  Visitor_Other  Visitor_Returner  Wday_0  \\\n",
       "Access_ID                                                                \n",
       "102863333                   0              0                 1       0   \n",
       "103117814                   0              0                 1       0   \n",
       "103201891                   0              0                 1       0   \n",
       "103226087                   0              0                 1       0   \n",
       "103234445                   0              0                 1       0   \n",
       "\n",
       "           Wday_1  Wday_2  Wday_3  Wday_4  Wday_5  Wday_6  \n",
       "Access_ID                                                  \n",
       "102863333       0       0       0       0       1       0  \n",
       "103117814       0       1       0       0       0       0  \n",
       "103201891       0       0       0       1       0       0  \n",
       "103226087       1       0       0       0       0       0  \n",
       "103234445       1       0       0       0       0       0  \n",
       "\n",
       "[5 rows x 66 columns]"
      ]
     },
     "execution_count": 96,
     "metadata": {},
     "output_type": "execute_result"
    }
   ],
   "source": [
    "df.head()"
   ]
  },
  {
   "cell_type": "code",
   "execution_count": 98,
   "id": "a2f2e01c",
   "metadata": {},
   "outputs": [],
   "source": [
    "X = df.drop('Buy',axis=1)\n",
    "y = df['Buy']"
   ]
  },
  {
   "cell_type": "code",
   "execution_count": 101,
   "id": "fb054ba9",
   "metadata": {},
   "outputs": [
    {
     "name": "stdout",
     "output_type": "stream",
     "text": [
      "<class 'pandas.core.frame.DataFrame'>\n",
      "Int64Index: 9999 entries, 102863333 to 798444008\n",
      "Data columns (total 65 columns):\n",
      " #   Column                      Non-Null Count  Dtype  \n",
      "---  ------                      --------------  -----  \n",
      " 0   AccountMng_Pages            9999 non-null   int64  \n",
      " 1   AccountMng_Duration         9999 non-null   float64\n",
      " 2   FAQ_Pages                   9999 non-null   int64  \n",
      " 3   FAQ_Duration                9999 non-null   float64\n",
      " 4   Product_Pages               9999 non-null   int64  \n",
      " 5   Product_Duration            9999 non-null   float64\n",
      " 6   GoogleAnalytics_BounceRate  9999 non-null   float64\n",
      " 7   GoogleAnalytics_ExitRate    9999 non-null   float64\n",
      " 8   GoogleAnalytics_PageValue   9999 non-null   float64\n",
      " 9   Month_Access                9999 non-null   int64  \n",
      " 10  Day_Access                  9999 non-null   int64  \n",
      " 11  OS_Android                  9999 non-null   uint8  \n",
      " 12  OS_Chrome OS                9999 non-null   uint8  \n",
      " 13  OS_Fedora                   9999 non-null   uint8  \n",
      " 14  OS_MacOSX                   9999 non-null   uint8  \n",
      " 15  OS_Other                    9999 non-null   uint8  \n",
      " 16  OS_Ubuntu                   9999 non-null   uint8  \n",
      " 17  OS_Windows                  9999 non-null   uint8  \n",
      " 18  OS_iOS                      9999 non-null   uint8  \n",
      " 19  Browser_1                   9999 non-null   uint8  \n",
      " 20  Browser_2                   9999 non-null   uint8  \n",
      " 21  Browser_3                   9999 non-null   uint8  \n",
      " 22  Browser_4                   9999 non-null   uint8  \n",
      " 23  Browser_5                   9999 non-null   uint8  \n",
      " 24  Browser_6                   9999 non-null   uint8  \n",
      " 25  Browser_7                   9999 non-null   uint8  \n",
      " 26  Browser_8                   9999 non-null   uint8  \n",
      " 27  Browser_10                  9999 non-null   uint8  \n",
      " 28  Browser_11                  9999 non-null   uint8  \n",
      " 29  Browser_12                  9999 non-null   uint8  \n",
      " 30  Browser_13                  9999 non-null   uint8  \n",
      " 31  Country_Brazil              9999 non-null   uint8  \n",
      " 32  Country_France              9999 non-null   uint8  \n",
      " 33  Country_Germany             9999 non-null   uint8  \n",
      " 34  Country_Italy               9999 non-null   uint8  \n",
      " 35  Country_Other               9999 non-null   uint8  \n",
      " 36  Country_Portugal            9999 non-null   uint8  \n",
      " 37  Country_Spain               9999 non-null   uint8  \n",
      " 38  Country_Switzerland         9999 non-null   uint8  \n",
      " 39  Country_United Kingdom      9999 non-null   uint8  \n",
      " 40  Traffic_1                   9999 non-null   uint8  \n",
      " 41  Traffic_2                   9999 non-null   uint8  \n",
      " 42  Traffic_3                   9999 non-null   uint8  \n",
      " 43  Traffic_4                   9999 non-null   uint8  \n",
      " 44  Traffic_5                   9999 non-null   uint8  \n",
      " 45  Traffic_6                   9999 non-null   uint8  \n",
      " 46  Traffic_7                   9999 non-null   uint8  \n",
      " 47  Traffic_8                   9999 non-null   uint8  \n",
      " 48  Traffic_9                   9999 non-null   uint8  \n",
      " 49  Traffic_10                  9999 non-null   uint8  \n",
      " 50  Traffic_11                  9999 non-null   uint8  \n",
      " 51  Traffic_12                  9999 non-null   uint8  \n",
      " 52  Traffic_13                  9999 non-null   uint8  \n",
      " 53  Traffic_14                  9999 non-null   uint8  \n",
      " 54  Traffic_15                  9999 non-null   uint8  \n",
      " 55  Visitor_New_Access          9999 non-null   uint8  \n",
      " 56  Visitor_Other               9999 non-null   uint8  \n",
      " 57  Visitor_Returner            9999 non-null   uint8  \n",
      " 58  Wday_0                      9999 non-null   uint8  \n",
      " 59  Wday_1                      9999 non-null   uint8  \n",
      " 60  Wday_2                      9999 non-null   uint8  \n",
      " 61  Wday_3                      9999 non-null   uint8  \n",
      " 62  Wday_4                      9999 non-null   uint8  \n",
      " 63  Wday_5                      9999 non-null   uint8  \n",
      " 64  Wday_6                      9999 non-null   uint8  \n",
      "dtypes: float64(6), int64(5), uint8(54)\n",
      "memory usage: 1.4 MB\n"
     ]
    }
   ],
   "source": [
    "X.info()"
   ]
  },
  {
   "cell_type": "code",
   "execution_count": 105,
   "id": "1a4fa624",
   "metadata": {},
   "outputs": [],
   "source": [
    "## undersampling\n",
    "\n",
    "# define undersample strategy\n",
    "undersample = RandomUnderSampler(sampling_strategy='majority')\n",
    "# fit and apply the transform\n",
    "X_under, y_under = undersample.fit_resample(X, y)"
   ]
  },
  {
   "cell_type": "code",
   "execution_count": 107,
   "id": "5c7f5884",
   "metadata": {},
   "outputs": [
    {
     "data": {
      "text/plain": [
       "50.0"
      ]
     },
     "execution_count": 107,
     "metadata": {},
     "output_type": "execute_result"
    }
   ],
   "source": [
    "y_under.mean()*100"
   ]
  },
  {
   "cell_type": "code",
   "execution_count": 108,
   "id": "0b8b641f",
   "metadata": {},
   "outputs": [],
   "source": [
    "X_train, X_test, y_train, y_test = train_test_split(X_under, y_under, test_size=0.3, random_state=42, stratify=y_under)"
   ]
  },
  {
   "cell_type": "code",
   "execution_count": 109,
   "id": "f104261a",
   "metadata": {},
   "outputs": [
    {
     "name": "stdout",
     "output_type": "stream",
     "text": [
      "0.5\n",
      "0.5\n"
     ]
    }
   ],
   "source": [
    "print(y_train.mean())\n",
    "print(y_test.mean())"
   ]
  },
  {
   "cell_type": "code",
   "execution_count": 110,
   "id": "6c55b195",
   "metadata": {},
   "outputs": [
    {
     "data": {
      "text/plain": [
       "(2172, 65)"
      ]
     },
     "execution_count": 110,
     "metadata": {},
     "output_type": "execute_result"
    }
   ],
   "source": [
    "X_train.shape"
   ]
  },
  {
   "cell_type": "code",
   "execution_count": 111,
   "id": "faa04dbb",
   "metadata": {},
   "outputs": [
    {
     "data": {
      "text/plain": [
       "(932, 65)"
      ]
     },
     "execution_count": 111,
     "metadata": {},
     "output_type": "execute_result"
    }
   ],
   "source": [
    "X_test.shape"
   ]
  },
  {
   "cell_type": "code",
   "execution_count": 113,
   "id": "f4c5e1d9",
   "metadata": {},
   "outputs": [
    {
     "data": {
      "text/plain": [
       "0.8293991416309013"
      ]
     },
     "execution_count": 113,
     "metadata": {},
     "output_type": "execute_result"
    }
   ],
   "source": [
    "## train model\n",
    "\n",
    "GradientBoost1 = GradientBoostingClassifier(n_estimators=500, learning_rate=1.0, max_depth=3, random_state=93).fit(X_train, y_train)\n",
    "\n",
    "#accuracy\n",
    "GradientBoost1.score(X_test, y_test) #0.83"
   ]
  },
  {
   "cell_type": "code",
   "execution_count": 130,
   "id": "9eed2144",
   "metadata": {},
   "outputs": [
    {
     "data": {
      "text/plain": [
       "<AxesSubplot:>"
      ]
     },
     "execution_count": 130,
     "metadata": {},
     "output_type": "execute_result"
    },
    {
     "data": {
      "image/png": "[encoded data removed]",
      "text/plain": [
       "<Figure size 3600x1800 with 1 Axes>"
      ]
     },
     "metadata": {
      "needs_background": "light"
     },
     "output_type": "display_data"
    }
   ],
   "source": [
    "GB1_feat_imprt = pd.Series(GradientBoost1.feature_importances_, index=X_train.columns).sort_values()\n",
    "fig = plt.figure(figsize=(50,25))\n",
    "GB1_feat_imprt[GB1_feat_imprt>0.001].plot(kind='barh')"
   ]
  },
  {
   "cell_type": "code",
   "execution_count": 131,
   "id": "3d99534c",
   "metadata": {},
   "outputs": [
    {
     "data": {
      "text/plain": [
       "<sklearn.metrics._plot.confusion_matrix.ConfusionMatrixDisplay at 0x2bb57383bb0>"
      ]
     },
     "execution_count": 131,
     "metadata": {},
     "output_type": "execute_result"
    },
    {
     "data": {
      "image/png": "[encoded data removed]",
      "text/plain": [
       "<Figure size 432x288 with 2 Axes>"
      ]
     },
     "metadata": {
      "needs_background": "light"
     },
     "output_type": "display_data"
    }
   ],
   "source": [
    "metrics.plot_confusion_matrix(GradientBoost1, X_test, y_test)  "
   ]
  },
  {
   "cell_type": "code",
   "execution_count": 138,
   "id": "a6cb6390",
   "metadata": {},
   "outputs": [],
   "source": [
    "GB1_pred = GradientBoost1.predict(X_test)\n",
    "GB1_score = GradientBoost1.predict_proba(X_test)[:,1]"
   ]
  },
  {
   "cell_type": "code",
   "execution_count": 148,
   "id": "bdf1672d",
   "metadata": {},
   "outputs": [
    {
     "name": "stdout",
     "output_type": "stream",
     "text": [
      "Precision: 0.84\n",
      "Recall: 0.81\n",
      "F1 Score: 0.83\n"
     ]
    }
   ],
   "source": [
    "print('Precision: '+ str(round(metrics.precision_score(y_test, GB1_pred),2)))\n",
    "print('Recall: '+ str(round(metrics.recall_score(y_test, GB1_pred),2)))\n",
    "print('F1 Score: '+ str(round(metrics.f1_score(y_test, GB1_pred),2)))\n"
   ]
  }
 ],
 "metadata": {
  "kernelspec": {
   "display_name": "Python 3",
   "language": "python",
   "name": "python3"
  },
  "language_info": {
   "codemirror_mode": {
    "name": "ipython",
    "version": 3
   },
   "file_extension": ".py",
   "mimetype": "text/x-python",
   "name": "python",
   "nbconvert_exporter": "python",
   "pygments_lexer": "ipython3",
   "version": "3.8.5"
  }
 },
 "nbformat": 4,
 "nbformat_minor": 5
}
